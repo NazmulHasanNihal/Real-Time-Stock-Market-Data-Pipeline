{
 "cells": [
  {
   "cell_type": "markdown",
   "metadata": {},
   "source": [
    "# <b> Real Time Stock Market Data Pipelines"
   ]
  },
  {
   "cell_type": "markdown",
   "metadata": {},
   "source": [
    "## <b>Importing Required Libraries"
   ]
  },
  {
   "cell_type": "code",
   "execution_count": 6,
   "metadata": {},
   "outputs": [],
   "source": [
    "import requests\n",
    "from datetime import datetime\n",
    "import pandas as pd\n",
    "import sqlite3\n",
    "import os"
   ]
  },
  {
   "cell_type": "markdown",
   "metadata": {},
   "source": [
    "## <b>Extracting Data"
   ]
  },
  {
   "cell_type": "code",
   "execution_count": 7,
   "metadata": {},
   "outputs": [
    {
     "name": "stdout",
     "output_type": "stream",
     "text": [
      "Fetching quote for AAPL...\n",
      "Fetching quote for MSFT...\n",
      "Fetching quote for GOOGL...\n",
      "Fetching quote for AMZN...\n",
      "Fetching quote for TSLA...\n",
      "Fetching quote for META...\n",
      "Fetching quote for NFLX...\n",
      "Fetching quote for NVDA...\n",
      "Fetching quote for INTC...\n",
      "Fetching quote for AMD...\n",
      "  Symbol  Current_Price  Change  Percent_Change  High_Price  Low_Price  \\\n",
      "0   AAPL         207.49   -2.19         -1.0444     211.890     207.11   \n",
      "1   MSFT         449.78    4.08          0.9154     450.550     446.51   \n",
      "2  GOOGL         179.63    3.33          1.8888     180.850     176.61   \n",
      "3   AMZN         189.08    2.98          1.6013     189.275     185.87   \n",
      "4   TSLA         183.01    1.44          0.7931     183.950     180.69   \n",
      "\n",
      "   Open_Price  Previous_Close           t                  timestamp  \n",
      "0     210.390          209.68  1719000002 2024-06-24 10:17:45.040906  \n",
      "1     447.135          445.70  1719000003 2024-06-24 10:17:45.040906  \n",
      "2     177.000          176.30  1719000002 2024-06-24 10:17:45.040906  \n",
      "3     187.740          186.10  1719000002 2024-06-24 10:17:45.040906  \n",
      "4     182.190          181.57  1719000001 2024-06-24 10:17:45.040906  \n"
     ]
    }
   ],
   "source": [
    "API_KEY = 'cpr629hr01qifjjvhtrgcpr629hr01qifjjvhts0'\n",
    "SYMBOLS = [\n",
    "    \"AAPL\",   # Apple Inc.\n",
    "    \"MSFT\",   # Microsoft Corporation\n",
    "    \"GOOGL\",  # Alphabet Inc. (Google)\n",
    "    \"AMZN\",   # Amazon.com Inc.\n",
    "    \"TSLA\",   # Tesla Inc.\n",
    "    \"META\",   # Meta Platforms Inc. (formerly Facebook)\n",
    "    \"NFLX\",   # Netflix Inc.\n",
    "    \"NVDA\",   # NVIDIA Corporation\n",
    "    \"INTC\",   # Intel Corporation\n",
    "    \"AMD\",    # Advanced Micro Devices Inc.\n",
    "]\n",
    "\n",
    "def fetch_quote(symbol):\n",
    "    url = f'https://finnhub.io/api/v1/quote?symbol={symbol}&token={API_KEY}'\n",
    "    try:\n",
    "        response = requests.get(url)\n",
    "        response.raise_for_status()\n",
    "        data = response.json()\n",
    "        if 'c' in data:\n",
    "            return data\n",
    "        else:\n",
    "            print(f\"Error fetching quote for {symbol}: {data}\")\n",
    "            return None\n",
    "    except requests.exceptions.RequestException as e:\n",
    "        print(f\"Request error for {symbol}: {e}\")\n",
    "        return None\n",
    "\n",
    "# Fetch quotes for all symbols\n",
    "def extract_stock_data(symbols):\n",
    "    all_quotes = {}\n",
    "    for symbol in symbols:\n",
    "        print(f\"Fetching quote for {symbol}...\")\n",
    "        quote_data = fetch_quote(symbol)\n",
    "        if quote_data:\n",
    "            all_quotes[symbol] = quote_data\n",
    "    df = pd.DataFrame.from_dict(all_quotes, orient='index')\n",
    "    df.reset_index(inplace=True)\n",
    "    df.rename(columns={'index': 'Symbol', 'c': 'Current_Price','d': 'Change','dp': 'Percent_Change', 'h': 'High_Price', 'l': 'Low_Price', 'o': 'Open_Price', 'pc': 'Previous_Close'}, inplace=True)\n",
    "    df['timestamp'] = pd.Timestamp.now()\n",
    "    return df\n",
    "\n",
    "# Extract data\n",
    "stock_data_df = extract_stock_data(SYMBOLS)\n",
    "print(stock_data_df.head())\n",
    "stock_data_df.to_csv('stock.csv')"
   ]
  },
  {
   "cell_type": "markdown",
   "metadata": {},
   "source": [
    "## <b>Transform Data"
   ]
  },
  {
   "cell_type": "code",
   "execution_count": 8,
   "metadata": {},
   "outputs": [
    {
     "name": "stdout",
     "output_type": "stream",
     "text": [
      "  Symbol  Current_Price  Change  Percent_Change  High_Price  Low_Price  \\\n",
      "0   AAPL         207.49   -2.19         -1.0444     211.890     207.11   \n",
      "1   MSFT         449.78    4.08          0.9154     450.550     446.51   \n",
      "2  GOOGL         179.63    3.33          1.8888     180.850     176.61   \n",
      "3   AMZN         189.08    2.98          1.6013     189.275     185.87   \n",
      "4   TSLA         183.01    1.44          0.7931     183.950     180.69   \n",
      "\n",
      "   Open_Price  Previous_Close  Year  Month  Day      Time  \n",
      "0     210.390          209.68  2024      6   24  10:17:45  \n",
      "1     447.135          445.70  2024      6   24  10:17:45  \n",
      "2     177.000          176.30  2024      6   24  10:17:45  \n",
      "3     187.740          186.10  2024      6   24  10:17:45  \n",
      "4     182.190          181.57  2024      6   24  10:17:45  \n"
     ]
    }
   ],
   "source": [
    "def transform_stock_data(df):\n",
    "    # Drop the 't' column\n",
    "    if 't' in df.columns:\n",
    "        df = df.drop(columns=['t'])\n",
    "    \n",
    "    # Convert 'timestamp' to datetime and extract year, month, day, and time\n",
    "    df['timestamp'] = pd.to_datetime(df['timestamp'])\n",
    "    df['Year'] = df['timestamp'].dt.year\n",
    "    df['Month'] = df['timestamp'].dt.month\n",
    "    df['Day'] = df['timestamp'].dt.day\n",
    "    df['Time'] = df['timestamp'].dt.strftime('%H:%M:%S')\n",
    "    \n",
    "    # Drop the original 'timestamp' column\n",
    "    df = df.drop(columns=['timestamp'])\n",
    "    \n",
    "    # Drop rows with NaN values\n",
    "    df = df.dropna()\n",
    "    \n",
    "    return df\n",
    "\n",
    "# Transform data\n",
    "transformed_stock_data_df = transform_stock_data(stock_data_df)\n",
    "print(transformed_stock_data_df.head())"
   ]
  },
  {
   "cell_type": "markdown",
   "metadata": {},
   "source": [
    "## <b>Load Data"
   ]
  },
  {
   "cell_type": "code",
   "execution_count": 10,
   "metadata": {},
   "outputs": [],
   "source": [
    "def load_data_to_sqlite(df, db_name='Database/stock_data.db', table_name='stock_quotes'):\n",
    "    \n",
    "    # Ensure the database directory exists\n",
    "    os.makedirs(os.path.dirname(db_name), exist_ok=True)\n",
    "    \n",
    "    # Connect to SQLite database\n",
    "    conn = sqlite3.connect(db_name)\n",
    "    cursor = conn.cursor()\n",
    "    \n",
    "    # Create table if not exists\n",
    "    cursor.execute(f'''\n",
    "        CREATE TABLE IF NOT EXISTS {table_name} (\n",
    "            Symbol TEXT,\n",
    "            Current_Price REAL,\n",
    "            Change REAL,\n",
    "            Percent_Change REAL,\n",
    "            High_Price REAL,\n",
    "            Low_Price REAL,\n",
    "            Open_Price REAL,\n",
    "            Previous_Close REAL,\n",
    "            Year INTEGER,\n",
    "            Month INTEGER,\n",
    "            Day INTEGER,\n",
    "            Time TEXT\n",
    "        )\n",
    "    ''')\n",
    "    \n",
    "    # Insert data into table\n",
    "    df.to_sql(table_name, conn, if_exists='append', index=False)\n",
    "    \n",
    "    # Commit and close connection\n",
    "    conn.commit()\n",
    "    conn.close()\n",
    "\n",
    "# Load data\n",
    "load_data_to_sqlite(transformed_stock_data_df)"
   ]
  }
 ],
 "metadata": {
  "kernelspec": {
   "display_name": "env",
   "language": "python",
   "name": "python3"
  },
  "language_info": {
   "codemirror_mode": {
    "name": "ipython",
    "version": 3
   },
   "file_extension": ".py",
   "mimetype": "text/x-python",
   "name": "python",
   "nbconvert_exporter": "python",
   "pygments_lexer": "ipython3",
   "version": "3.12.2"
  }
 },
 "nbformat": 4,
 "nbformat_minor": 2
}
